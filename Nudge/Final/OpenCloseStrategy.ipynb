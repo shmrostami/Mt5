{
 "cells": [
  {
   "cell_type": "code",
   "execution_count": 1,
   "id": "ed570c8f-b0a3-41d9-b7c9-dccda16d4d31",
   "metadata": {},
   "outputs": [],
   "source": [
    "import numpy as np\n",
    "import pandas as pd\n",
    "import matplotlib.pyplot as plt\n",
    "import time\n",
    "from datetime import datetime, timedelta"
   ]
  },
  {
   "cell_type": "code",
   "execution_count": 2,
   "id": "a65a15c1-ca53-420d-8e81-0e733d61452f",
   "metadata": {},
   "outputs": [],
   "source": [
    "def __statement_preprocess(trading_data):\n",
    "    \"\"\"\n",
    "    This function is used to preprocess the trading_data\n",
    "    --------------------------------------------------\n",
    "    Parameters :\n",
    "    ------------\n",
    "        - trading_data : Trading Statement pandas-DataFrame\n",
    "    --------------------------------------------------\n",
    "    Returns :\n",
    "    -----------\n",
    "        -trading_data : pandas-DataFrame\n",
    "    \"\"\"\n",
    "\n",
    "    # Removing Balance rows (price and time is 0)\n",
    "    trading_data = trading_data.drop( index=trading_data[trading_data.ordertype == 'None'].index).reset_index(drop=True)\n",
    "\n",
    "    # Correction of Time2 datatype\n",
    "    trading_data.openorder_time = pd.to_datetime(trading_data.openorder_time)\n",
    "    trading_data.closeorder_time = pd.to_datetime(trading_data.closeorder_time)\n",
    "\n",
    "    # Sort by Time2 (close date)\n",
    "    trading_data = trading_data.sort_values(by='closeorder_time')\n",
    "\n",
    "    return trading_data\n",
    "\n",
    "def __main( trading_data: pd.DataFrame) -> None:\n",
    "    \"\"\"\n",
    "    This function is the main body to calculate open/close scores\n",
    "    --------------------------------------------------\n",
    "    Parameters :\n",
    "    ------------\n",
    "        - trading_data : Trading Statement pandas-DataFrame\n",
    "    --------------------------------------------------\n",
    "    Returns :\n",
    "    -----------\n",
    "        None\n",
    "        * Outputs are stored in object variables\n",
    "    \"\"\"\n",
    "\n",
    "    # Fetch prices from server\n",
    "    prices = pd.DataFrame(trading_data.apply( lambda x: pd.DataFrame(eval(x[\"openClosestrategies\"])) if x[\"openClosestrategies\"] != None else 0, axis = 1))\n",
    "\n",
    "    # Calculate scores for all scenarios (Score = 11 - rank of each trade among 11 different scenarios)\n",
    "    # NOTE1: For strategy base price, price fetched from API for Time1/Time2 is used\n",
    "    # NOTE2: Open_scores/Close_scores range between 0 to 10\n",
    "    # buy_mask shows if trade is buy or sell\n",
    "    buy_mask = trading_data.ordertype.str.contains('long', case=False)\n",
    "    open_scores = 11 - prices.apply(lambda x: 11 if (x[0] == 0) else x[0][:11].close.rank(ascending=buy_mask[x.name]), axis=1)\n",
    "    close_scores = 11 - prices.apply(lambda x: 11 if (x[0] == 0) else x[0][11:].close.rank(ascending=not buy_mask[x.name]), axis=1)\n",
    "\n",
    "\n",
    "    index_low_duration = trading_data[trading_data[\"openClosestrategies\"].isin([None])].index\n",
    "    profit_low_durationp = trading_data[trading_data[\"openClosestrategies\"].isin([None])].profit.values\n",
    "    open_scores[open_scores.index.isin(index_low_duration)] = np.array( list(map(lambda x: 10 if x>0 else 0, profit_low_durationp))).reshape(len(profit_low_durationp),1)\n",
    "    close_scores[close_scores.index.isin(profit_low_durationp)] = np.array(list(map(lambda x: 10 if x>0 else 0, profit_low_durationp))).reshape(len(profit_low_durationp),1)\n",
    "    # renaming open and close scores\n",
    "    open_scores.rename(columns={0: \"-50%\", 1: \"-40%\", 2: \"-30%\", 3: \"-20%\", 4: \"-10%\", 5: \"Strategy\", 6: \"+10%\", 7: \"+20%\", 8: \"+30%\", 9: \"+40%\", 10: \"+50%\"}, inplace=True)\n",
    "    close_scores.rename(columns={11: \"-50%\", 12: \"-40%\", 13: \"-30%\", 14: \"-20%\", 15: \"-10%\", 16: \"Strategy\", 17: \"+10%\", 18: \"+20%\", 19: \"+30%\", 20: \"+40%\", 21: \"+50%\"}, inplace=True)\n",
    "\n",
    "    # Calculate aggregated mean for scores\n",
    "    cumulative_open_scores = open_scores.cumsum().div((open_scores.index.values + 1), axis=0)\n",
    "    cumulative_close_scores = close_scores.cumsum().div((close_scores.index.values + 1), axis=0)\n",
    "\n",
    "    x = trading_data.closeorder_time.dt.round('D')\n",
    "\n",
    "    # Aggregate scores on base unit\n",
    "    open_scores = open_scores.set_index(x).groupby('closeorder_time').mean()\n",
    "    close_scores = close_scores.set_index(x).groupby('closeorder_time').mean()\n",
    "\n",
    "    cumulative_open_scores = self.cumulative_open_scores.set_index(x).groupby('closeorder_time').mean()\n",
    "    cumulative_open_scores[\"Type\"] = \"Open\"\n",
    "    cumulative_close_scores = self.cumulative_close_scores.set_index(x).groupby('closeorder_time').mean()\n",
    "    cumulative_close_scores[\"Type\"] = \"Close\"\n",
    "\n",
    "    # Finding final scores\n",
    "    final_open_score = self.cumulative_open_scores.iat[-1, 5]\n",
    "    final_close_score = self.cumulative_close_scores.iat[-1, 5]"
   ]
  },
  {
   "cell_type": "code",
   "execution_count": 4,
   "id": "f0191cf8-41dc-43db-b17d-97b1d54d236f",
   "metadata": {},
   "outputs": [],
   "source": [
    "df = pd.read_csv('147.csv', index_col=0)\n",
    "\n",
    "trading_data = __statement_preprocess(df) \n",
    "\n",
    "# Fetch prices from server\n",
    "prices = pd.DataFrame(trading_data.apply( lambda x: pd.DataFrame(eval(x[\"openClosestrategies\"])) if x[\"openClosestrategies\"] != None else 0, axis = 1))\n",
    "\n",
    "# buy_mask shows if trade is buy or sell\n",
    "buy_mask = trading_data.ordertype.str.contains('long', case=False)\n",
    "\n",
    "# Ratio of profit to price difference\n",
    "profit_per_pip = abs( trading_data['profit'] /(trading_data.loc[:,'closeorder_price'] - trading_data.loc[:,'openorder_price']))\n",
    "\n",
    "# calculate Open Strategy impacts\n",
    "open_impact =   prices.apply(lambda x: (x[0][:11].close - x[0][:11].close[5]) * (-1 if buy_mask[x.name]  else 1), axis=1).mul(profit_per_pip, axis=0)#.sum(axis=0)\n",
    "open_impact.rename(columns={0: \"-50%\", 1: \"-40%\", 2: \"-30%\", 3: \"-20%\", 4: \"-10%\", 5: \"Strategy\", 6: \"+10%\", 7: \"+20%\", 8: \"+30%\", 9: \"+40%\", 10: \"+50%\"}, inplace=True)\n",
    "open_impact_return = open_impact.add(trading_data['profit'], axis=0).sum(axis=0)\n",
    "open_impact_precent = (open_impact_return - open_impact_return[5])/abs(open_impact_return[5]) * 100\n",
    "\n",
    "# calculate Close Strategy impacts\n",
    "close_impact =  prices.apply(lambda x: (x[0][11:].close - x[0][11:].close[16]) * (-1 if buy_mask[x.name]  else 1), axis=1).mul(profit_per_pip, axis=0)#.sum(axis=0)\n",
    "close_impact.rename(columns={11: \"-50%\", 12: \"-40%\", 13: \"-30%\", 14: \"-20%\", 15: \"-10%\", 16: \"Strategy\", 17: \"+10%\", 18: \"+20%\", 19: \"+30%\", 20: \"+40%\", 21: \"+50%\"}, inplace=True)\n",
    "close_impact_return = close_impact.add(trading_data['profit'], axis=0).sum(axis=0)\n",
    "close_impact_precent = (close_impact_return - close_impact_return[5])/close_impact_return[5] * 100\n"
   ]
  },
  {
   "cell_type": "code",
   "execution_count": 6,
   "id": "b1fe87ab-ca51-4894-8214-4ea655c7177c",
   "metadata": {},
   "outputs": [
    {
     "data": {
      "image/png": "[encoded data removed]",
      "text/plain": [
       "<Figure size 1080x720 with 2 Axes>"
      ]
     },
     "metadata": {
      "needs_background": "light"
     },
     "output_type": "display_data"
    }
   ],
   "source": [
    "fig = plt.figure(figsize=(15, 10))\n",
    "(ax1, ax2) = fig.subplots(2, 1) \n",
    "\n",
    "ax1.bar(x=open_impact_precent.index, height=open_impact_precent.values, label='Entry Time')\n",
    "ax1.grid()\n",
    "ax1.legend()\n",
    "\n",
    "ax2.bar(x=close_impact_precent.index, height=close_impact_precent.values, label='Exit time')\n",
    "ax2.grid()\n",
    "ax2.legend();"
   ]
  }
 ],
 "metadata": {
  "kernelspec": {
   "display_name": "Python 3 (ipykernel)",
   "language": "python",
   "name": "python3"
  },
  "language_info": {
   "codemirror_mode": {
    "name": "ipython",
    "version": 3
   },
   "file_extension": ".py",
   "mimetype": "text/x-python",
   "name": "python",
   "nbconvert_exporter": "python",
   "pygments_lexer": "ipython3",
   "version": "3.9.12"
  }
 },
 "nbformat": 4,
 "nbformat_minor": 5
}
