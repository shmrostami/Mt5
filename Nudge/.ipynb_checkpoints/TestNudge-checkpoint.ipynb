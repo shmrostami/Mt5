{
 "cells": [
  {
   "cell_type": "code",
   "execution_count": 71,
   "id": "01161b15-c8a3-48a9-8cff-fb33531d8854",
   "metadata": {},
   "outputs": [],
   "source": [
    "import numpy as np\n",
    "import pandas as pd\n",
    "import matplotlib.pyplot as plt\n",
    "import time\n",
    "import random"
   ]
  },
  {
   "cell_type": "code",
   "execution_count": 76,
   "id": "4fd79951-0f95-4843-8ad2-47ec41388979",
   "metadata": {},
   "outputs": [],
   "source": [
    "from os import listdir\n",
    "from os.path import isfile, join\n",
    "\n",
    "mypath = \"./Data/\"\n",
    "fileIds = [mypath+f for f in listdir(mypath) if isfile(join(mypath, f))]"
   ]
  },
  {
   "cell_type": "code",
   "execution_count": 78,
   "id": "8ccb624b-c664-4e38-98a2-08fd19b3ee75",
   "metadata": {},
   "outputs": [
    {
     "data": {
      "text/plain": [
       "'./Data/1013219.csv'"
      ]
     },
     "execution_count": 78,
     "metadata": {},
     "output_type": "execute_result"
    }
   ],
   "source": [
    "fileIds[0]"
   ]
  },
  {
   "cell_type": "code",
   "execution_count": 161,
   "id": "0ce2b8bd-d153-4aea-8649-6c7a209885cf",
   "metadata": {},
   "outputs": [],
   "source": [
    "good_df = pd.read_csv(\"Data/798045.positions.csv\", delimiter=\";\", index_col=['Time'])\n",
    "bad_df = pd.read_csv(\"Data/566161.positions.csv\", delimiter=\";\", index_col=['Time'])"
   ]
  },
  {
   "cell_type": "code",
   "execution_count": 162,
   "id": "913ded65-f967-422f-8620-a7c3e678314b",
   "metadata": {},
   "outputs": [],
   "source": [
    "def roi_hitrate(df):\n",
    "    df.Commission.fillna(0, inplace = True)\n",
    "    df.Swap.fillna(0, inplace = True)\n",
    "    # Payoff    \n",
    "    net_profit =   df[(df.Profit+df.Swap+df.Commission > 0) & ((df.Type == 'Sell') | (df.Type == 'Buy'))]['Profit'].sum() \n",
    "    net_loss =  df[(df.Profit+df.Swap+df.Commission < 0) & ((df.Type == 'Sell') | (df.Type == 'Buy'))]['Profit'].sum() \n",
    "    roi =  net_profit / abs( net_loss ) \n",
    "    \n",
    "    # Hitrate\n",
    "    win_rate = len(df[(df.Profit > 0) & ((df.Type == 'Sell') | (df.Type == 'Buy'))]) \n",
    "    total_rate = len(df[(df.Type == 'Sell') | (df.Type == 'Buy')]) \n",
    "    hitrate = win_rate / total_rate\n",
    "    \n",
    "    return (roi, hitrate)\n",
    "    "
   ]
  },
  {
   "cell_type": "code",
   "execution_count": 163,
   "id": "6987ed24-f501-43b5-af42-e2d854b3252b",
   "metadata": {},
   "outputs": [
    {
     "name": "stdout",
     "output_type": "stream",
     "text": [
      "g_ROI:  2.3257083176888447 , g_Hitrate:  0.8688305169817634\n",
      "b_ROI:  0.9024989506659432 , b_Hitrate:  0.45222929936305734\n"
     ]
    },
    {
     "data": {
      "text/plain": [
       "0.30311640948295315"
      ]
     },
     "execution_count": 163,
     "metadata": {},
     "output_type": "execute_result"
    }
   ],
   "source": [
    "g_roi, g_hitrate = roi_hitrate(good_df)\n",
    "b_roi, b_hitrate = roi_hitrate(bad_df)\n",
    "print('g_ROI: ', g_roi,  ', g_Hitrate: ', g_hitrate)\n",
    "print('b_ROI: ', b_roi,  ', b_Hitrate: ', b_hitrate)\n",
    "g_payoff * g_hitrate"
   ]
  },
  {
   "cell_type": "code",
   "execution_count": 164,
   "id": "2479fab2-3dea-493f-ab38-080dd7a3e2cd",
   "metadata": {},
   "outputs": [
    {
     "data": {
      "image/png": "[encoded data removed]",
      "text/plain": [
       "<Figure size 720x720 with 1 Axes>"
      ]
     },
     "metadata": {
      "needs_background": "light"
     },
     "output_type": "display_data"
    }
   ],
   "source": [
    "circle1 = plt.Circle((0, 0), 0.25, color='#3f54f2')\n",
    "circle2 = plt.Circle((0, 0), 0.5, color='#5265f7')\n",
    "circle3 = plt.Circle((0, 0), 0.75, color='#6d7dfc')\n",
    "circle4 = plt.Circle((0, 0), 1, color='#84c0f5')\n",
    "circle5= plt.Circle((0, 0), 5, color='#a4adf5')\n",
    "fig = plt.figure(figsize=(10, 10))\n",
    "ax = fig.subplots() \n",
    "ax.add_patch(circle5)\n",
    "ax.add_patch(circle4)\n",
    "ax.add_patch(circle3)\n",
    "ax.add_patch(circle2)\n",
    "ax.add_patch(circle1)\n",
    "\n",
    "plt.xlim(0, 1)\n",
    "plt.ylim(0, 3)\n",
    "plt.scatter(x=g_hitrate, y = g_roi, color='g')\n",
    "plt.scatter(x=b_hitrate, y = b_roi, color='r')\n",
    "plt.xlabel('Hit Rate')\n",
    "plt.ylabel('ROI')\n",
    "plt.show()\n",
    "# print( circle3)"
   ]
  },
  {
   "cell_type": "code",
   "execution_count": null,
   "id": "ee1a2561-4f62-4c16-b974-6b80574a5fec",
   "metadata": {},
   "outputs": [],
   "source": []
  }
 ],
 "metadata": {
  "kernelspec": {
   "display_name": "Python 3 (ipykernel)",
   "language": "python",
   "name": "python3"
  },
  "language_info": {
   "codemirror_mode": {
    "name": "ipython",
    "version": 3
   },
   "file_extension": ".py",
   "mimetype": "text/x-python",
   "name": "python",
   "nbconvert_exporter": "python",
   "pygments_lexer": "ipython3",
   "version": "3.9.7"
  }
 },
 "nbformat": 4,
 "nbformat_minor": 5
}
