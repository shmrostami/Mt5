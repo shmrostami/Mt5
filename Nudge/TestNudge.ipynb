{
 "cells": [
  {
   "cell_type": "code",
   "execution_count": 248,
   "id": "01161b15-c8a3-48a9-8cff-fb33531d8854",
   "metadata": {},
   "outputs": [],
   "source": [
    "import numpy as np\n",
    "import pandas as pd\n",
    "import matplotlib.pyplot as plt\n",
    "import time\n",
    "import random\n",
    "import scipy.stats"
   ]
  },
  {
   "cell_type": "code",
   "execution_count": 91,
   "id": "4fd79951-0f95-4843-8ad2-47ec41388979",
   "metadata": {},
   "outputs": [],
   "source": [
    "from os import listdir\n",
    "from os.path import isfile, join\n",
    "\n",
    "mypath = \"./Data/\"\n",
    "fileIds = [(f.split('.')[0], mypath+f) for f in listdir(mypath) if isfile(join(mypath, f))]\n",
    "# fileIds = [f.split('.')[0] for f in listdir(mypath) if isfile(join(mypath, f))]"
   ]
  },
  {
   "cell_type": "code",
   "execution_count": 93,
   "id": "1d7e5b96-e66e-457f-a9bb-cf1be368adaf",
   "metadata": {},
   "outputs": [],
   "source": [
    "df = pd.DataFrame(columns=['id','path', 'roi', 'hitrate'])\n",
    "for id, path in fileIds:\n",
    "    df = pd.concat([df, pd.DataFrame({'id':id, 'path':path, 'roi':None,  'hitrate':None}, index=[0])])"
   ]
  },
  {
   "cell_type": "code",
   "execution_count": 104,
   "id": "6dced739-ec2f-47e8-99fb-7a7dd71ec5d6",
   "metadata": {},
   "outputs": [
    {
     "data": {
      "text/plain": [
       "id                 1013219\n",
       "path    ./Data/1013219.csv\n",
       "Name: 0, dtype: object"
      ]
     },
     "execution_count": 104,
     "metadata": {},
     "output_type": "execute_result"
    }
   ],
   "source": [
    "df[['id', 'path']].iloc[0]"
   ]
  },
  {
   "cell_type": "code",
   "execution_count": 135,
   "id": "1d0fb3b0-f61b-41a9-9cae-77a4171349b9",
   "metadata": {},
   "outputs": [
    {
     "data": {
      "text/html": [
       "<div>\n",
       "<style scoped>\n",
       "    .dataframe tbody tr th:only-of-type {\n",
       "        vertical-align: middle;\n",
       "    }\n",
       "\n",
       "    .dataframe tbody tr th {\n",
       "        vertical-align: top;\n",
       "    }\n",
       "\n",
       "    .dataframe thead th {\n",
       "        text-align: right;\n",
       "    }\n",
       "</style>\n",
       "<table border=\"1\" class=\"dataframe\">\n",
       "  <thead>\n",
       "    <tr style=\"text-align: right;\">\n",
       "      <th></th>\n",
       "      <th>id</th>\n",
       "      <th>path</th>\n",
       "      <th>roi</th>\n",
       "      <th>hitrate</th>\n",
       "    </tr>\n",
       "  </thead>\n",
       "  <tbody>\n",
       "    <tr>\n",
       "      <th>0</th>\n",
       "      <td>1013219</td>\n",
       "      <td>./Data/1013219.csv</td>\n",
       "      <td>0.001029</td>\n",
       "      <td>0.862022</td>\n",
       "    </tr>\n",
       "    <tr>\n",
       "      <th>0</th>\n",
       "      <td>1016066</td>\n",
       "      <td>./Data/1016066.csv</td>\n",
       "      <td>0.005409</td>\n",
       "      <td>0.228395</td>\n",
       "    </tr>\n",
       "    <tr>\n",
       "      <th>0</th>\n",
       "      <td>1016910</td>\n",
       "      <td>./Data/1016910.csv</td>\n",
       "      <td>0.014687</td>\n",
       "      <td>0.84</td>\n",
       "    </tr>\n",
       "    <tr>\n",
       "      <th>0</th>\n",
       "      <td>1016917</td>\n",
       "      <td>./Data/1016917.csv</td>\n",
       "      <td>0.096876</td>\n",
       "      <td>0.864078</td>\n",
       "    </tr>\n",
       "    <tr>\n",
       "      <th>0</th>\n",
       "      <td>1018646</td>\n",
       "      <td>./Data/1018646.csv</td>\n",
       "      <td>0.00049</td>\n",
       "      <td>0.767888</td>\n",
       "    </tr>\n",
       "    <tr>\n",
       "      <th>...</th>\n",
       "      <td>...</td>\n",
       "      <td>...</td>\n",
       "      <td>...</td>\n",
       "      <td>...</td>\n",
       "    </tr>\n",
       "    <tr>\n",
       "      <th>0</th>\n",
       "      <td>987229</td>\n",
       "      <td>./Data/987229.csv</td>\n",
       "      <td>0.028434</td>\n",
       "      <td>0.872146</td>\n",
       "    </tr>\n",
       "    <tr>\n",
       "      <th>0</th>\n",
       "      <td>993239</td>\n",
       "      <td>./Data/993239.csv</td>\n",
       "      <td>0.000675</td>\n",
       "      <td>0.611963</td>\n",
       "    </tr>\n",
       "    <tr>\n",
       "      <th>0</th>\n",
       "      <td>993292</td>\n",
       "      <td>./Data/993292.csv</td>\n",
       "      <td>0.000343</td>\n",
       "      <td>0.712705</td>\n",
       "    </tr>\n",
       "    <tr>\n",
       "      <th>0</th>\n",
       "      <td>995747</td>\n",
       "      <td>./Data/995747.csv</td>\n",
       "      <td>0.008803</td>\n",
       "      <td>0.941038</td>\n",
       "    </tr>\n",
       "    <tr>\n",
       "      <th>0</th>\n",
       "      <td>998210</td>\n",
       "      <td>./Data/998210.csv</td>\n",
       "      <td>0.00082</td>\n",
       "      <td>0.76598</td>\n",
       "    </tr>\n",
       "  </tbody>\n",
       "</table>\n",
       "<p>1466 rows × 4 columns</p>\n",
       "</div>"
      ],
      "text/plain": [
       "         id                path       roi   hitrate\n",
       "0   1013219  ./Data/1013219.csv  0.001029  0.862022\n",
       "0   1016066  ./Data/1016066.csv  0.005409  0.228395\n",
       "0   1016910  ./Data/1016910.csv  0.014687      0.84\n",
       "0   1016917  ./Data/1016917.csv  0.096876  0.864078\n",
       "0   1018646  ./Data/1018646.csv   0.00049  0.767888\n",
       "..      ...                 ...       ...       ...\n",
       "0    987229   ./Data/987229.csv  0.028434  0.872146\n",
       "0    993239   ./Data/993239.csv  0.000675  0.611963\n",
       "0    993292   ./Data/993292.csv  0.000343  0.712705\n",
       "0    995747   ./Data/995747.csv  0.008803  0.941038\n",
       "0    998210   ./Data/998210.csv   0.00082   0.76598\n",
       "\n",
       "[1466 rows x 4 columns]"
      ]
     },
     "execution_count": 135,
     "metadata": {},
     "output_type": "execute_result"
    }
   ],
   "source": [
    "df"
   ]
  },
  {
   "cell_type": "code",
   "execution_count": null,
   "id": "7a397943-d7c8-4a2b-8e6e-ff666bda895c",
   "metadata": {
    "tags": []
   },
   "outputs": [],
   "source": [
    "for i in range(0, len(df)):\n",
    "    # print(df[ 'path'].iloc[i])\n",
    "    temp_df = pd.read_csv(df[ 'path'].iloc[i], delimiter=\";\", index_col=['Time'])\n",
    "    roi, hitrate = roi_hitrate(temp_df)\n",
    "    df['roi'].iat[i] = roi\n",
    "    df['hitrate'].iat[i] = hitrate\n",
    "    # pass"
   ]
  },
  {
   "cell_type": "code",
   "execution_count": 161,
   "id": "0ce2b8bd-d153-4aea-8649-6c7a209885cf",
   "metadata": {},
   "outputs": [],
   "source": [
    "good_df = pd.read_csv(\"Data/798045.positions.csv\", delimiter=\";\", index_col=['Time'])\n",
    "bad_df = pd.read_csv(\"Data/566161.positions.csv\", delimiter=\";\", index_col=['Time'])"
   ]
  },
  {
   "cell_type": "code",
   "execution_count": 153,
   "id": "5c77fc42-2e25-43bc-bedc-ba30926157f6",
   "metadata": {},
   "outputs": [],
   "source": [
    "import scipy.stats\n",
    "# test_data[\"Balance\"] = test_data.profit.cumsum()\n",
    "# Return = test_data[\"Balance\"].pct_change().dropna().values\n",
    "# SR =(np.mean(Return[:i])/np.std(Return[:i]))\n",
    "# score = scipy.stats.norm(0, 1).cdf(SR)\n",
    "# score"
   ]
  },
  {
   "cell_type": "code",
   "execution_count": 159,
   "id": "913ded65-f967-422f-8620-a7c3e678314b",
   "metadata": {},
   "outputs": [],
   "source": [
    "def roi_hitrate(df):\n",
    "    df.Commission.fillna(0, inplace = True)\n",
    "    df.Swap.fillna(0, inplace = True)\n",
    "    \n",
    "    # Hitrate\n",
    "    win_rate = len(df[(df.Profit > 0) & ((df.Type == 'Sell') | (df.Type == 'Buy'))]) \n",
    "    total_rate = len(df[(df.Type == 'Sell') | (df.Type == 'Buy')]) \n",
    "    if total_rate == 0:\n",
    "        hitrate = 0\n",
    "    else:\n",
    "        hitrate = win_rate / total_rate\n",
    "\n",
    "    # Payoff    \n",
    "    net_profit =   df[(df.Profit+df.Swap+df.Commission > 0) & ((df.Type == 'Sell') | (df.Type == 'Buy'))]['Profit'].sum() \n",
    "    net_loss =  df[(df.Profit+df.Swap+df.Commission < 0) & ((df.Type == 'Sell') | (df.Type == 'Buy'))]['Profit'].sum() \n",
    "    if net_loss == 0:\n",
    "        win_rate = win_rate if win_rate !=0 else 1\n",
    "        roi =  net_profit /win_rate\n",
    "    else:\n",
    "        roi =  (net_profit / abs( net_loss ))/total_rate \n",
    "    \n",
    "    df[\"Balance\"] = df.Profit.cumsum()\n",
    "    Return = df[\"Balance\"].pct_change().dropna().values\n",
    "    \n",
    "    if np.std(Return) == 0:        \n",
    "        SR =np.mean(Return)             \n",
    "    else:             \n",
    "        SR =(np.mean(Return)/np.std(Return))\n",
    "    score = scipy.stats.norm(0, 1).cdf(SR)\n",
    "    roi = score\n",
    "    \n",
    "    return (roi, hitrate)\n",
    "    "
   ]
  },
  {
   "cell_type": "code",
   "execution_count": 163,
   "id": "6987ed24-f501-43b5-af42-e2d854b3252b",
   "metadata": {},
   "outputs": [
    {
     "name": "stdout",
     "output_type": "stream",
     "text": [
      "g_ROI:  2.3257083176888447 , g_Hitrate:  0.8688305169817634\n",
      "b_ROI:  0.9024989506659432 , b_Hitrate:  0.45222929936305734\n"
     ]
    },
    {
     "data": {
      "text/plain": [
       "0.30311640948295315"
      ]
     },
     "execution_count": 163,
     "metadata": {},
     "output_type": "execute_result"
    }
   ],
   "source": [
    "g_roi, g_hitrate = roi_hitrate(good_df)\n",
    "b_roi, b_hitrate = roi_hitrate(bad_df)\n",
    "print('g_ROI: ', g_roi,  ', g_Hitrate: ', g_hitrate)\n",
    "print('b_ROI: ', b_roi,  ', b_Hitrate: ', b_hitrate)\n",
    "g_payoff * g_hitrate"
   ]
  },
  {
   "cell_type": "code",
   "execution_count": null,
   "id": "0372dbd4-c66d-4d71-90f2-329571bb7470",
   "metadata": {},
   "outputs": [],
   "source": []
  },
  {
   "cell_type": "code",
   "execution_count": 246,
   "id": "2479fab2-3dea-493f-ab38-080dd7a3e2cd",
   "metadata": {},
   "outputs": [],
   "source": [
    "def compare_plot(X, Y):\n",
    "    circle1 = plt.Circle((0, 0), 0.25, color='#3f54f2')\n",
    "    circle2 = plt.Circle((0, 0), 0.5, color='#5265f7')\n",
    "    circle3 = plt.Circle((0, 0), 0.75, color='#6d7dfc')\n",
    "    circle4 = plt.Circle((0, 0), 1, color='#84c0f5')\n",
    "    circle5= plt.Circle((0, 0), 5, color='#a4adf5')\n",
    "    fig = plt.figure(figsize=(5, 5))\n",
    "    ax = fig.subplots() \n",
    "    ax.add_patch(circle5)\n",
    "    ax.add_patch(circle4)\n",
    "    ax.add_patch(circle3)\n",
    "    ax.add_patch(circle2)\n",
    "    ax.add_patch(circle1)\n",
    "\n",
    "    plt.xlim(0, 1.1)\n",
    "    plt.ylim(0, 1.1)\n",
    "    plt.scatter(x=X, y=Y, color='r')\n",
    "    plt.xlabel('Hit Rate')\n",
    "    plt.ylabel('SharpRatio')\n",
    "    plt.show()\n",
    "    # print( circle3)"
   ]
  },
  {
   "cell_type": "code",
   "execution_count": 166,
   "id": "ee1a2561-4f62-4c16-b974-6b80574a5fec",
   "metadata": {},
   "outputs": [],
   "source": [
    "df = pd.read_csv('statistics.csv', index_col=[0])"
   ]
  },
  {
   "cell_type": "code",
   "execution_count": 214,
   "id": "a6328e35-362f-4260-8bd8-17f70bfa956c",
   "metadata": {},
   "outputs": [],
   "source": [
    "df['Profit Trades'] = df['Profit Trades'].str.split( '(').str[1].str.split('%').str[0].astype(float)/100"
   ]
  },
  {
   "cell_type": "code",
   "execution_count": 231,
   "id": "f7caf9a5-d4d2-4d4d-a8bd-a082d53b582f",
   "metadata": {},
   "outputs": [
    {
     "data": {
      "text/plain": [
       "array([0.64430875, 0.59870633, 0.56355946, ..., 0.46017216, 0.49601064,\n",
       "       0.49601064])"
      ]
     },
     "execution_count": 231,
     "metadata": {},
     "output_type": "execute_result"
    }
   ],
   "source": [
    "\n",
    "scipy.stats.norm(0, 1).cdf(df['Sharpe Ratio'])"
   ]
  },
  {
   "cell_type": "code",
   "execution_count": 247,
   "id": "bc4eb965-1315-4dcf-a98a-63705fd741a7",
   "metadata": {},
   "outputs": [
    {
     "data": {
      "image/png": "[encoded data removed]",
      "text/plain": [
       "<Figure size 360x360 with 1 Axes>"
      ]
     },
     "metadata": {
      "needs_background": "light"
     },
     "output_type": "display_data"
    }
   ],
   "source": [
    "\n",
    "compare_plot( df['Profit Trades'], scipy.stats.norm(0, 1).cdf(df['Sharpe Ratio']))\n",
    "# compare_plot( df['Profit Trades'], df['Sharpe Ratio'])"
   ]
  },
  {
   "cell_type": "code",
   "execution_count": 225,
   "id": "197b59e4-2431-4f32-8dee-03662e3938ee",
   "metadata": {},
   "outputs": [
    {
     "data": {
      "text/plain": [
       "3045.76"
      ]
     },
     "execution_count": 225,
     "metadata": {},
     "output_type": "execute_result"
    }
   ],
   "source": [
    "df['Profit Factor'].max()"
   ]
  },
  {
   "cell_type": "code",
   "execution_count": 237,
   "id": "fbeb929a-5561-4ad5-be80-3648e85b9cd3",
   "metadata": {},
   "outputs": [],
   "source": [
    "def NormalizeData(data):\n",
    "    return (data - np.min(data)) / (np.max(data) - np.min(data))"
   ]
  },
  {
   "cell_type": "code",
   "execution_count": 243,
   "id": "caed95f9-ab21-4b20-9bbd-9c9b7a40e928",
   "metadata": {},
   "outputs": [
    {
     "data": {
      "image/png": "[encoded data removed]",
      "text/plain": [
       "<Figure size 720x720 with 1 Axes>"
      ]
     },
     "metadata": {
      "needs_background": "light"
     },
     "output_type": "display_data"
    }
   ],
   "source": [
    "# compare_plot( df['Profit Trades'], df['Profit Factor'])\n",
    "compare_plot( df['Profit Trades'], scipy.stats.norm(0, 1).cdf(df['Profit Factor']))"
   ]
  },
  {
   "cell_type": "code",
   "execution_count": null,
   "id": "bcffb95c-b805-4d7e-87ab-ed7ace32a637",
   "metadata": {},
   "outputs": [],
   "source": []
  }
 ],
 "metadata": {
  "kernelspec": {
   "display_name": "Python 3 (ipykernel)",
   "language": "python",
   "name": "python3"
  },
  "language_info": {
   "codemirror_mode": {
    "name": "ipython",
    "version": 3
   },
   "file_extension": ".py",
   "mimetype": "text/x-python",
   "name": "python",
   "nbconvert_exporter": "python",
   "pygments_lexer": "ipython3",
   "version": "3.10.14"
  }
 },
 "nbformat": 4,
 "nbformat_minor": 5
}
