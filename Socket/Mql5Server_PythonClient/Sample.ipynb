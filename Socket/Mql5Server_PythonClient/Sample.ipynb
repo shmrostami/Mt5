{
 "cells": [
  {
   "cell_type": "code",
   "execution_count": 1,
   "id": "3cbd32b4-319b-456b-8051-0e18fa28c7ce",
   "metadata": {},
   "outputs": [],
   "source": [
    "import zmq\n",
    "import pandas as pd\n",
    "import matplotlib.pyplot as plt\n",
    "context = zmq.Context()"
   ]
  },
  {
   "cell_type": "code",
   "execution_count": 2,
   "id": "479c5ab5-77d5-44f2-af50-0504946906e4",
   "metadata": {},
   "outputs": [],
   "source": [
    "df_ticks = pd.DataFrame( columns=['timestamp','bid', 'time_msc', 'ask', 'Symbol', 'time'])"
   ]
  },
  {
   "cell_type": "code",
   "execution_count": 3,
   "id": "98d1ab82-7c8b-43b9-8ee1-1aaa34dd3a89",
   "metadata": {},
   "outputs": [
    {
     "data": {
      "text/html": [
       "<div>\n",
       "<style scoped>\n",
       "    .dataframe tbody tr th:only-of-type {\n",
       "        vertical-align: middle;\n",
       "    }\n",
       "\n",
       "    .dataframe tbody tr th {\n",
       "        vertical-align: top;\n",
       "    }\n",
       "\n",
       "    .dataframe thead th {\n",
       "        text-align: right;\n",
       "    }\n",
       "</style>\n",
       "<table border=\"1\" class=\"dataframe\">\n",
       "  <thead>\n",
       "    <tr style=\"text-align: right;\">\n",
       "      <th></th>\n",
       "      <th>timestamp</th>\n",
       "      <th>bid</th>\n",
       "      <th>time_msc</th>\n",
       "      <th>ask</th>\n",
       "      <th>Symbol</th>\n",
       "      <th>time</th>\n",
       "    </tr>\n",
       "  </thead>\n",
       "  <tbody>\n",
       "  </tbody>\n",
       "</table>\n",
       "</div>"
      ],
      "text/plain": [
       "Empty DataFrame\n",
       "Columns: [timestamp, bid, time_msc, ask, Symbol, time]\n",
       "Index: []"
      ]
     },
     "execution_count": 3,
     "metadata": {},
     "output_type": "execute_result"
    }
   ],
   "source": [
    "df_ticks"
   ]
  },
  {
   "cell_type": "code",
   "execution_count": 4,
   "id": "ba6d9aec-aa11-428a-a981-bcc2d6d79428",
   "metadata": {},
   "outputs": [
    {
     "name": "stdout",
     "output_type": "stream",
     "text": [
      "Connecting to Metatrader server…\n"
     ]
    }
   ],
   "source": [
    "#  Socket to talk to server\n",
    "print(\"Connecting to Metatrader server…\")\n",
    "socket = context.socket(zmq.REQ)\n",
    "socket.connect(\"tcp://127.0.0.1:5555\")\n",
    "\n",
    "#  Do 10 requests, waiting each time for a response\n",
    "for i in range(10):\n",
    "    socket.send_string('{0}'.format(i))\n",
    "\n",
    "    #  Get the reply.\n",
    "    message = socket.recv_json()\n",
    "    message['tick']['timestamp'] = pd.to_datetime(message['tick']['time_msc'], unit='ms')\n",
    "    df_ticks = df_ticks.append(pd.DataFrame.from_records([message['tick']]))\n",
    "    #print(message)\n",
    "    df_ticks\n",
    "\n",
    "    "
   ]
  },
  {
   "cell_type": "code",
   "execution_count": 10,
   "id": "01868c9a-ef91-4555-969b-74a5df90333f",
   "metadata": {},
   "outputs": [],
   "source": [
    "df = df_ticks.copy()"
   ]
  },
  {
   "cell_type": "code",
   "execution_count": 35,
   "id": "0a1410a6-3651-4171-ad33-5bf192779098",
   "metadata": {},
   "outputs": [
    {
     "data": {
      "text/plain": [
       "1.19865"
      ]
     },
     "execution_count": 35,
     "metadata": {},
     "output_type": "execute_result"
    }
   ],
   "source": [
    "df.iloc[-1].bid"
   ]
  },
  {
   "cell_type": "code",
   "execution_count": 15,
   "id": "88165917-190f-44d6-94a1-c4bd9d53bc99",
   "metadata": {},
   "outputs": [],
   "source": [
    "df.drop(columns=['time', 'time_msc', 'Symbol'], inplace=True)"
   ]
  },
  {
   "cell_type": "code",
   "execution_count": 17,
   "id": "b9ed3bb3-f7d4-422b-907f-3682313f367b",
   "metadata": {},
   "outputs": [],
   "source": [
    "df.reset_index(inplace=True)"
   ]
  },
  {
   "cell_type": "code",
   "execution_count": 21,
   "id": "83fb7056-77de-4491-ac5c-1f0d96ec981a",
   "metadata": {},
   "outputs": [],
   "source": [
    "df.drop(columns=['index'], inplace=True)"
   ]
  },
  {
   "cell_type": "code",
   "execution_count": 30,
   "id": "347b3e4d-398f-49d5-9ee5-b1de755b41ad",
   "metadata": {},
   "outputs": [
    {
     "data": {
      "text/plain": [
       "[<matplotlib.lines.Line2D at 0x10ef1091b50>]"
      ]
     },
     "execution_count": 30,
     "metadata": {},
     "output_type": "execute_result"
    },
    {
     "data": {
      "image/png": "[encoded data removed]",
      "text/plain": [
       "<Figure size 432x288 with 1 Axes>"
      ]
     },
     "metadata": {
      "needs_background": "light"
     },
     "output_type": "display_data"
    }
   ],
   "source": [
    "plt.plot(df['timestamp'], df['bid'])"
   ]
  },
  {
   "cell_type": "code",
   "execution_count": 11,
   "id": "33149a73-4b22-4996-be9f-41e3834f2177",
   "metadata": {},
   "outputs": [],
   "source": [
    "df_ticks.reset_index(inplace=True)"
   ]
  },
  {
   "cell_type": "code",
   "execution_count": null,
   "id": "251ec036-1024-455a-a05a-aa4dea27c5ba",
   "metadata": {},
   "outputs": [],
   "source": []
  },
  {
   "cell_type": "code",
   "execution_count": 18,
   "id": "c29f988b-3e6a-46b1-81ed-821d52eb52b6",
   "metadata": {},
   "outputs": [],
   "source": [
    "df_ticks = df_ticks.columns.drop('index')"
   ]
  },
  {
   "cell_type": "code",
   "execution_count": 9,
   "id": "cee6ef73-be10-42a6-bff9-bee2b2208ec3",
   "metadata": {},
   "outputs": [
    {
     "data": {
      "text/html": [
       "<div>\n",
       "<style scoped>\n",
       "    .dataframe tbody tr th:only-of-type {\n",
       "        vertical-align: middle;\n",
       "    }\n",
       "\n",
       "    .dataframe tbody tr th {\n",
       "        vertical-align: top;\n",
       "    }\n",
       "\n",
       "    .dataframe thead th {\n",
       "        text-align: right;\n",
       "    }\n",
       "</style>\n",
       "<table border=\"1\" class=\"dataframe\">\n",
       "  <thead>\n",
       "    <tr style=\"text-align: right;\">\n",
       "      <th></th>\n",
       "      <th>timestamp</th>\n",
       "      <th>bid</th>\n",
       "      <th>time_msc</th>\n",
       "      <th>ask</th>\n",
       "      <th>Symbol</th>\n",
       "      <th>time</th>\n",
       "    </tr>\n",
       "  </thead>\n",
       "  <tbody>\n",
       "    <tr>\n",
       "      <th>0</th>\n",
       "      <td>2021-04-16 14:42:21.498</td>\n",
       "      <td>1.19866</td>\n",
       "      <td>1618584141498</td>\n",
       "      <td>1.19869</td>\n",
       "      <td>EURUSD</td>\n",
       "      <td>1.618584e+09</td>\n",
       "    </tr>\n",
       "    <tr>\n",
       "      <th>0</th>\n",
       "      <td>2021-04-16 14:42:21.624</td>\n",
       "      <td>1.19864</td>\n",
       "      <td>1618584141624</td>\n",
       "      <td>1.19867</td>\n",
       "      <td>EURUSD</td>\n",
       "      <td>1.618584e+09</td>\n",
       "    </tr>\n",
       "    <tr>\n",
       "      <th>0</th>\n",
       "      <td>2021-04-16 14:42:23.496</td>\n",
       "      <td>1.19866</td>\n",
       "      <td>1618584143496</td>\n",
       "      <td>1.19867</td>\n",
       "      <td>EURUSD</td>\n",
       "      <td>1.618584e+09</td>\n",
       "    </tr>\n",
       "    <tr>\n",
       "      <th>0</th>\n",
       "      <td>2021-04-16 14:42:23.750</td>\n",
       "      <td>1.19864</td>\n",
       "      <td>1618584143750</td>\n",
       "      <td>1.19867</td>\n",
       "      <td>EURUSD</td>\n",
       "      <td>1.618584e+09</td>\n",
       "    </tr>\n",
       "    <tr>\n",
       "      <th>0</th>\n",
       "      <td>2021-04-16 14:42:25.469</td>\n",
       "      <td>1.19865</td>\n",
       "      <td>1618584145469</td>\n",
       "      <td>1.19867</td>\n",
       "      <td>EURUSD</td>\n",
       "      <td>1.618584e+09</td>\n",
       "    </tr>\n",
       "    <tr>\n",
       "      <th>0</th>\n",
       "      <td>2021-04-16 14:42:26.672</td>\n",
       "      <td>1.19867</td>\n",
       "      <td>1618584146672</td>\n",
       "      <td>1.19869</td>\n",
       "      <td>EURUSD</td>\n",
       "      <td>1.618584e+09</td>\n",
       "    </tr>\n",
       "    <tr>\n",
       "      <th>0</th>\n",
       "      <td>2021-04-16 14:42:27.484</td>\n",
       "      <td>1.19866</td>\n",
       "      <td>1618584147484</td>\n",
       "      <td>1.19868</td>\n",
       "      <td>EURUSD</td>\n",
       "      <td>1.618584e+09</td>\n",
       "    </tr>\n",
       "    <tr>\n",
       "      <th>0</th>\n",
       "      <td>2021-04-16 14:42:27.581</td>\n",
       "      <td>1.19865</td>\n",
       "      <td>1618584147581</td>\n",
       "      <td>1.19867</td>\n",
       "      <td>EURUSD</td>\n",
       "      <td>1.618584e+09</td>\n",
       "    </tr>\n",
       "    <tr>\n",
       "      <th>0</th>\n",
       "      <td>2021-04-16 14:42:31.228</td>\n",
       "      <td>1.19866</td>\n",
       "      <td>1618584151228</td>\n",
       "      <td>1.19869</td>\n",
       "      <td>EURUSD</td>\n",
       "      <td>1.618584e+09</td>\n",
       "    </tr>\n",
       "    <tr>\n",
       "      <th>0</th>\n",
       "      <td>2021-04-16 14:42:31.356</td>\n",
       "      <td>1.19865</td>\n",
       "      <td>1618584151356</td>\n",
       "      <td>1.19868</td>\n",
       "      <td>EURUSD</td>\n",
       "      <td>1.618584e+09</td>\n",
       "    </tr>\n",
       "  </tbody>\n",
       "</table>\n",
       "</div>"
      ],
      "text/plain": [
       "                timestamp      bid       time_msc      ask  Symbol  \\\n",
       "0 2021-04-16 14:42:21.498  1.19866  1618584141498  1.19869  EURUSD   \n",
       "0 2021-04-16 14:42:21.624  1.19864  1618584141624  1.19867  EURUSD   \n",
       "0 2021-04-16 14:42:23.496  1.19866  1618584143496  1.19867  EURUSD   \n",
       "0 2021-04-16 14:42:23.750  1.19864  1618584143750  1.19867  EURUSD   \n",
       "0 2021-04-16 14:42:25.469  1.19865  1618584145469  1.19867  EURUSD   \n",
       "0 2021-04-16 14:42:26.672  1.19867  1618584146672  1.19869  EURUSD   \n",
       "0 2021-04-16 14:42:27.484  1.19866  1618584147484  1.19868  EURUSD   \n",
       "0 2021-04-16 14:42:27.581  1.19865  1618584147581  1.19867  EURUSD   \n",
       "0 2021-04-16 14:42:31.228  1.19866  1618584151228  1.19869  EURUSD   \n",
       "0 2021-04-16 14:42:31.356  1.19865  1618584151356  1.19868  EURUSD   \n",
       "\n",
       "           time  \n",
       "0  1.618584e+09  \n",
       "0  1.618584e+09  \n",
       "0  1.618584e+09  \n",
       "0  1.618584e+09  \n",
       "0  1.618584e+09  \n",
       "0  1.618584e+09  \n",
       "0  1.618584e+09  \n",
       "0  1.618584e+09  \n",
       "0  1.618584e+09  \n",
       "0  1.618584e+09  "
      ]
     },
     "execution_count": 9,
     "metadata": {},
     "output_type": "execute_result"
    }
   ],
   "source": [
    "df_ticks"
   ]
  },
  {
   "cell_type": "code",
   "execution_count": 8,
   "id": "f3eb4829-f2e7-4ade-a567-1effd5dac8de",
   "metadata": {},
   "outputs": [
    {
     "data": {
      "text/plain": [
       "[<matplotlib.lines.Line2D at 0x182fb881760>]"
      ]
     },
     "execution_count": 8,
     "metadata": {},
     "output_type": "execute_result"
    },
    {
     "data": {
      "image/png": "[encoded data removed]",
      "text/plain": [
       "<Figure size 432x288 with 1 Axes>"
      ]
     },
     "metadata": {
      "needs_background": "light"
     },
     "output_type": "display_data"
    }
   ],
   "source": [
    "plt.plot(df_ticks[['time','bid']])"
   ]
  },
  {
   "cell_type": "code",
   "execution_count": 24,
   "id": "35adf944-4923-4ab8-b97e-bf6f61e2cd17",
   "metadata": {},
   "outputs": [
    {
     "data": {
      "text/plain": [
       "{'tick': {'bid': 1.1983,\n",
       "  'time_msc': 1618578914369,\n",
       "  'ask': 1.19833,\n",
       "  'Symbol': 'EURUSD',\n",
       "  'time': 1618578914.0}}"
      ]
     },
     "execution_count": 24,
     "metadata": {},
     "output_type": "execute_result"
    }
   ],
   "source": [
    "message"
   ]
  },
  {
   "cell_type": "code",
   "execution_count": 25,
   "id": "988a5ae5-614c-4427-9768-c5b17cf07976",
   "metadata": {},
   "outputs": [
    {
     "data": {
      "text/plain": [
       "dict"
      ]
     },
     "execution_count": 25,
     "metadata": {},
     "output_type": "execute_result"
    }
   ],
   "source": [
    "type(message)"
   ]
  },
  {
   "cell_type": "code",
   "execution_count": 28,
   "id": "9c7c0da6-0ebc-4fcb-89b4-8f8a0a1ce2ea",
   "metadata": {},
   "outputs": [
    {
     "data": {
      "text/plain": [
       "{'bid': 1.1983,\n",
       " 'time_msc': 1618578914369,\n",
       " 'ask': 1.19833,\n",
       " 'Symbol': 'EURUSD',\n",
       " 'time': 1618578914.0}"
      ]
     },
     "execution_count": 28,
     "metadata": {},
     "output_type": "execute_result"
    }
   ],
   "source": [
    "message['tick']"
   ]
  },
  {
   "cell_type": "code",
   "execution_count": 30,
   "id": "8ace83bd-832c-4334-8dbc-15d8a29257fd",
   "metadata": {},
   "outputs": [],
   "source": [
    "import pandas as pd"
   ]
  },
  {
   "cell_type": "code",
   "execution_count": 31,
   "id": "43e6795c-3000-4791-9b51-881e54c16f27",
   "metadata": {},
   "outputs": [
    {
     "data": {
      "text/plain": [
       "Timestamp('2021-04-16 13:15:14.369000')"
      ]
     },
     "execution_count": 31,
     "metadata": {},
     "output_type": "execute_result"
    }
   ],
   "source": [
    "pd.to_datetime(message['tick']['time_msc'], unit='ms')"
   ]
  },
  {
   "cell_type": "code",
   "execution_count": 88,
   "id": "fd62fe6c-1198-4043-91c3-fdec60f6c8db",
   "metadata": {},
   "outputs": [
    {
     "data": {
      "text/html": [
       "<div>\n",
       "<style scoped>\n",
       "    .dataframe tbody tr th:only-of-type {\n",
       "        vertical-align: middle;\n",
       "    }\n",
       "\n",
       "    .dataframe tbody tr th {\n",
       "        vertical-align: top;\n",
       "    }\n",
       "\n",
       "    .dataframe thead th {\n",
       "        text-align: right;\n",
       "    }\n",
       "</style>\n",
       "<table border=\"1\" class=\"dataframe\">\n",
       "  <thead>\n",
       "    <tr style=\"text-align: right;\">\n",
       "      <th></th>\n",
       "      <th>bid</th>\n",
       "      <th>time_msc</th>\n",
       "      <th>ask</th>\n",
       "      <th>Symbol</th>\n",
       "      <th>time</th>\n",
       "      <th>date</th>\n",
       "      <th>timestamp</th>\n",
       "    </tr>\n",
       "  </thead>\n",
       "  <tbody>\n",
       "    <tr>\n",
       "      <th>0</th>\n",
       "      <td>1.1983</td>\n",
       "      <td>1618578914369</td>\n",
       "      <td>1.19833</td>\n",
       "      <td>EURUSD</td>\n",
       "      <td>1.618579e+09</td>\n",
       "      <td>2021-04-16 13:15:14.369</td>\n",
       "      <td>2021-04-16 13:15:14.369</td>\n",
       "    </tr>\n",
       "    <tr>\n",
       "      <th>0</th>\n",
       "      <td>1.1983</td>\n",
       "      <td>1618578914369</td>\n",
       "      <td>1.19833</td>\n",
       "      <td>EURUSD</td>\n",
       "      <td>1.618579e+09</td>\n",
       "      <td>2021-04-16 13:15:14.369</td>\n",
       "      <td>2021-04-16 13:15:14.369</td>\n",
       "    </tr>\n",
       "  </tbody>\n",
       "</table>\n",
       "</div>"
      ],
      "text/plain": [
       "      bid       time_msc      ask  Symbol          time  \\\n",
       "0  1.1983  1618578914369  1.19833  EURUSD  1.618579e+09   \n",
       "0  1.1983  1618578914369  1.19833  EURUSD  1.618579e+09   \n",
       "\n",
       "                     date               timestamp  \n",
       "0 2021-04-16 13:15:14.369 2021-04-16 13:15:14.369  \n",
       "0 2021-04-16 13:15:14.369 2021-04-16 13:15:14.369  "
      ]
     },
     "execution_count": 88,
     "metadata": {},
     "output_type": "execute_result"
    }
   ],
   "source": [
    "df_ticks = df_ticks.append(pd.DataFrame.from_records([message['tick']]))\n",
    "df_ticks"
   ]
  },
  {
   "cell_type": "code",
   "execution_count": 60,
   "id": "ae2bf960-c29c-453c-a80b-6ef95b5e2c56",
   "metadata": {},
   "outputs": [
    {
     "data": {
      "text/html": [
       "<div>\n",
       "<style scoped>\n",
       "    .dataframe tbody tr th:only-of-type {\n",
       "        vertical-align: middle;\n",
       "    }\n",
       "\n",
       "    .dataframe tbody tr th {\n",
       "        vertical-align: top;\n",
       "    }\n",
       "\n",
       "    .dataframe thead th {\n",
       "        text-align: right;\n",
       "    }\n",
       "</style>\n",
       "<table border=\"1\" class=\"dataframe\">\n",
       "  <thead>\n",
       "    <tr style=\"text-align: right;\">\n",
       "      <th></th>\n",
       "      <th>bid</th>\n",
       "      <th>time_msc</th>\n",
       "      <th>ask</th>\n",
       "      <th>Symbol</th>\n",
       "      <th>time</th>\n",
       "    </tr>\n",
       "  </thead>\n",
       "  <tbody>\n",
       "  </tbody>\n",
       "</table>\n",
       "</div>"
      ],
      "text/plain": [
       "Empty DataFrame\n",
       "Columns: [bid, time_msc, ask, Symbol, time]\n",
       "Index: []"
      ]
     },
     "execution_count": 60,
     "metadata": {},
     "output_type": "execute_result"
    }
   ],
   "source": [
    "pd.DataFrame( columns=list(message['tick'].keys()))"
   ]
  },
  {
   "cell_type": "code",
   "execution_count": 67,
   "id": "4cab1ad4-064d-4510-a0e2-172d1a41add7",
   "metadata": {},
   "outputs": [
    {
     "data": {
      "text/html": [
       "<div>\n",
       "<style scoped>\n",
       "    .dataframe tbody tr th:only-of-type {\n",
       "        vertical-align: middle;\n",
       "    }\n",
       "\n",
       "    .dataframe tbody tr th {\n",
       "        vertical-align: top;\n",
       "    }\n",
       "\n",
       "    .dataframe thead th {\n",
       "        text-align: right;\n",
       "    }\n",
       "</style>\n",
       "<table border=\"1\" class=\"dataframe\">\n",
       "  <thead>\n",
       "    <tr style=\"text-align: right;\">\n",
       "      <th></th>\n",
       "      <th>bid</th>\n",
       "      <th>time_msc</th>\n",
       "      <th>ask</th>\n",
       "      <th>Symbol</th>\n",
       "      <th>time</th>\n",
       "    </tr>\n",
       "  </thead>\n",
       "  <tbody>\n",
       "  </tbody>\n",
       "</table>\n",
       "</div>"
      ],
      "text/plain": [
       "Empty DataFrame\n",
       "Columns: [bid, time_msc, ask, Symbol, time]\n",
       "Index: []"
      ]
     },
     "execution_count": 67,
     "metadata": {},
     "output_type": "execute_result"
    }
   ],
   "source": [
    "df_ticks"
   ]
  },
  {
   "cell_type": "code",
   "execution_count": 80,
   "id": "2fad4ca1-19d8-465e-a8e5-631e849643dc",
   "metadata": {},
   "outputs": [
    {
     "data": {
      "text/plain": [
       "{'bid': 1.1983,\n",
       " 'time_msc': 1618578914369,\n",
       " 'ask': 1.19833,\n",
       " 'Symbol': 'EURUSD',\n",
       " 'time': 1618578914.0,\n",
       " 'date': Timestamp('2021-04-16 13:15:14.369000'),\n",
       " 'timestamp': Timestamp('2021-04-16 13:15:14.369000')}"
      ]
     },
     "execution_count": 80,
     "metadata": {},
     "output_type": "execute_result"
    }
   ],
   "source": [
    "message['tick']['timestamp'] = pd.to_datetime(message['tick']['time_msc'], unit='ms')\n",
    "message['tick']"
   ]
  },
  {
   "cell_type": "code",
   "execution_count": 76,
   "id": "bdee6efb-9f81-48b9-8d69-0d7015cbda05",
   "metadata": {},
   "outputs": [
    {
     "data": {
      "text/html": [
       "<div>\n",
       "<style scoped>\n",
       "    .dataframe tbody tr th:only-of-type {\n",
       "        vertical-align: middle;\n",
       "    }\n",
       "\n",
       "    .dataframe tbody tr th {\n",
       "        vertical-align: top;\n",
       "    }\n",
       "\n",
       "    .dataframe thead th {\n",
       "        text-align: right;\n",
       "    }\n",
       "</style>\n",
       "<table border=\"1\" class=\"dataframe\">\n",
       "  <thead>\n",
       "    <tr style=\"text-align: right;\">\n",
       "      <th></th>\n",
       "      <th>bid</th>\n",
       "      <th>time_msc</th>\n",
       "      <th>ask</th>\n",
       "      <th>Symbol</th>\n",
       "      <th>time</th>\n",
       "    </tr>\n",
       "  </thead>\n",
       "  <tbody>\n",
       "    <tr>\n",
       "      <th>0</th>\n",
       "      <td>1.1983</td>\n",
       "      <td>1618578914369</td>\n",
       "      <td>1.19833</td>\n",
       "      <td>EURUSD</td>\n",
       "      <td>1.618579e+09</td>\n",
       "    </tr>\n",
       "  </tbody>\n",
       "</table>\n",
       "</div>"
      ],
      "text/plain": [
       "      bid       time_msc      ask  Symbol          time\n",
       "0  1.1983  1618578914369  1.19833  EURUSD  1.618579e+09"
      ]
     },
     "execution_count": 76,
     "metadata": {},
     "output_type": "execute_result"
    }
   ],
   "source": [
    "df_ticks.append((message['tick']), ignore_index=True)\n"
   ]
  },
  {
   "cell_type": "code",
   "execution_count": null,
   "id": "0cd41e01-fb1a-4064-9339-0dbc9df67561",
   "metadata": {},
   "outputs": [],
   "source": []
  }
 ],
 "metadata": {
  "kernelspec": {
   "display_name": "Python 3",
   "language": "python",
   "name": "python3"
  },
  "language_info": {
   "codemirror_mode": {
    "name": "ipython",
    "version": 3
   },
   "file_extension": ".py",
   "mimetype": "text/x-python",
   "name": "python",
   "nbconvert_exporter": "python",
   "pygments_lexer": "ipython3",
   "version": "3.8.8"
  }
 },
 "nbformat": 4,
 "nbformat_minor": 5
}
