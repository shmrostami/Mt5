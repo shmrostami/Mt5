{
 "cells": [
  {
   "cell_type": "code",
   "execution_count": 1,
   "id": "894fd006",
   "metadata": {},
   "outputs": [],
   "source": [
    "import socket, numpy as np\n",
    "from sklearn.linear_model import LinearRegression"
   ]
  },
  {
   "cell_type": "code",
   "execution_count": 2,
   "id": "e76a00f0",
   "metadata": {},
   "outputs": [],
   "source": [
    "class socketserver:\n",
    "    def __init__(self, address = '', port = 9055):\n",
    "        self.sock = socket.socket(socket.AF_INET, socket.SOCK_STREAM)\n",
    "        self.address = address\n",
    "        self.port = port\n",
    "        self.sock.bind((self.address, self.port))\n",
    "        self.cummdata = ''\n",
    "        \n",
    "    def recvmsg(self):\n",
    "        self.sock.listen(1)\n",
    "        self.conn, self.addr = self.sock.accept()\n",
    "        print('connected to', self.addr)\n",
    "        self.cummdata = ''\n",
    "\n",
    "        while True:\n",
    "            data = self.conn.recv(10000)\n",
    "            self.cummdata+=data.decode(\"utf-8\")\n",
    "            print(\"Data: \" + self.cummdata)\n",
    "            if not data:\n",
    "                break    \n",
    "            self.conn.send(bytes(calcregr(self.cummdata), \"utf-8\"))\n",
    "            return self.cummdata\n",
    "            \n",
    "    def __del__(self):\n",
    "        self.sock.close()"
   ]
  },
  {
   "cell_type": "code",
   "execution_count": 3,
   "id": "cad5fa38",
   "metadata": {},
   "outputs": [],
   "source": [
    "def calcregr(msg = ''):\n",
    "    chartdata = np.fromstring(msg, dtype=float, sep= ' ') \n",
    "    Y = np.array(chartdata).reshape(-1,1)\n",
    "    X = np.array(np.arange(len(chartdata))).reshape(-1,1)\n",
    "        \n",
    "    lr = LinearRegression()\n",
    "    lr.fit(X, Y)\n",
    "    Y_pred = lr.predict(X)\n",
    "\n",
    "    P = Y_pred.astype(str).item(-1) + ' ' + Y_pred.astype(str).item(0)\n",
    "    print(P)\n",
    "    return str(P)"
   ]
  },
  {
   "cell_type": "code",
   "execution_count": 4,
   "id": "e08d61c1",
   "metadata": {
    "tags": []
   },
   "outputs": [
    {
     "name": "stdout",
     "output_type": "stream",
     "text": [
      "connected to ('127.0.0.1', 39332)\n",
      "Data: 1.20312 1.20326 1.20329 1.20328 1.20335 1.20336 1.20308 1.20309 1.20298 1.203 \n",
      "1.2030547272727272 1.2033072727272727\n",
      "connected to ('127.0.0.1', 39338)\n",
      "Data: 1.20312 1.20326 1.20329 1.20328 1.20335 1.20336 1.20308 1.20309 1.20298 1.203 \n",
      "1.2030547272727272 1.2033072727272727\n",
      "connected to ('127.0.0.1', 39340)\n",
      "Data: 1.20312 1.20326 1.20329 1.20328 1.20335 1.20336 1.20308 1.20309 1.20298 1.203 \n",
      "1.2030547272727272 1.2033072727272727\n",
      "connected to ('127.0.0.1', 39353)\n",
      "Data: 1.20312 1.20326 1.20329 1.20328 1.20335 1.20336 1.20308 1.20309 1.20298 1.20301 \n",
      "1.2030581818181818 1.2033058181818181\n"
     ]
    },
    {
     "ename": "KeyboardInterrupt",
     "evalue": "",
     "output_type": "error",
     "traceback": [
      "\u001b[1;31m---------------------------------------------------------------------------\u001b[0m",
      "\u001b[1;31mKeyboardInterrupt\u001b[0m                         Traceback (most recent call last)",
      "\u001b[1;32m<ipython-input-4-366ad114199a>\u001b[0m in \u001b[0;36m<module>\u001b[1;34m\u001b[0m\n\u001b[0;32m      2\u001b[0m \u001b[1;33m\u001b[0m\u001b[0m\n\u001b[0;32m      3\u001b[0m \u001b[1;32mwhile\u001b[0m \u001b[1;32mTrue\u001b[0m\u001b[1;33m:\u001b[0m\u001b[1;33m\u001b[0m\u001b[1;33m\u001b[0m\u001b[0m\n\u001b[1;32m----> 4\u001b[1;33m     \u001b[0mmsg\u001b[0m \u001b[1;33m=\u001b[0m \u001b[0mserv\u001b[0m\u001b[1;33m.\u001b[0m\u001b[0mrecvmsg\u001b[0m\u001b[1;33m(\u001b[0m\u001b[1;33m)\u001b[0m\u001b[1;33m\u001b[0m\u001b[1;33m\u001b[0m\u001b[0m\n\u001b[0m",
      "\u001b[1;32m<ipython-input-2-039b20e72335>\u001b[0m in \u001b[0;36mrecvmsg\u001b[1;34m(self)\u001b[0m\n\u001b[0;32m      9\u001b[0m     \u001b[1;32mdef\u001b[0m \u001b[0mrecvmsg\u001b[0m\u001b[1;33m(\u001b[0m\u001b[0mself\u001b[0m\u001b[1;33m)\u001b[0m\u001b[1;33m:\u001b[0m\u001b[1;33m\u001b[0m\u001b[1;33m\u001b[0m\u001b[0m\n\u001b[0;32m     10\u001b[0m         \u001b[0mself\u001b[0m\u001b[1;33m.\u001b[0m\u001b[0msock\u001b[0m\u001b[1;33m.\u001b[0m\u001b[0mlisten\u001b[0m\u001b[1;33m(\u001b[0m\u001b[1;36m1\u001b[0m\u001b[1;33m)\u001b[0m\u001b[1;33m\u001b[0m\u001b[1;33m\u001b[0m\u001b[0m\n\u001b[1;32m---> 11\u001b[1;33m         \u001b[0mself\u001b[0m\u001b[1;33m.\u001b[0m\u001b[0mconn\u001b[0m\u001b[1;33m,\u001b[0m \u001b[0mself\u001b[0m\u001b[1;33m.\u001b[0m\u001b[0maddr\u001b[0m \u001b[1;33m=\u001b[0m \u001b[0mself\u001b[0m\u001b[1;33m.\u001b[0m\u001b[0msock\u001b[0m\u001b[1;33m.\u001b[0m\u001b[0maccept\u001b[0m\u001b[1;33m(\u001b[0m\u001b[1;33m)\u001b[0m\u001b[1;33m\u001b[0m\u001b[1;33m\u001b[0m\u001b[0m\n\u001b[0m\u001b[0;32m     12\u001b[0m         \u001b[0mprint\u001b[0m\u001b[1;33m(\u001b[0m\u001b[1;34m'connected to'\u001b[0m\u001b[1;33m,\u001b[0m \u001b[0mself\u001b[0m\u001b[1;33m.\u001b[0m\u001b[0maddr\u001b[0m\u001b[1;33m)\u001b[0m\u001b[1;33m\u001b[0m\u001b[1;33m\u001b[0m\u001b[0m\n\u001b[0;32m     13\u001b[0m         \u001b[0mself\u001b[0m\u001b[1;33m.\u001b[0m\u001b[0mcummdata\u001b[0m \u001b[1;33m=\u001b[0m \u001b[1;34m''\u001b[0m\u001b[1;33m\u001b[0m\u001b[1;33m\u001b[0m\u001b[0m\n",
      "\u001b[1;32m~\\Anaconda3\\lib\\socket.py\u001b[0m in \u001b[0;36maccept\u001b[1;34m(self)\u001b[0m\n\u001b[0;32m    290\u001b[0m         \u001b[0mFor\u001b[0m \u001b[0mIP\u001b[0m \u001b[0msockets\u001b[0m\u001b[1;33m,\u001b[0m \u001b[0mthe\u001b[0m \u001b[0maddress\u001b[0m \u001b[0minfo\u001b[0m \u001b[1;32mis\u001b[0m \u001b[0ma\u001b[0m \u001b[0mpair\u001b[0m \u001b[1;33m(\u001b[0m\u001b[0mhostaddr\u001b[0m\u001b[1;33m,\u001b[0m \u001b[0mport\u001b[0m\u001b[1;33m)\u001b[0m\u001b[1;33m.\u001b[0m\u001b[1;33m\u001b[0m\u001b[1;33m\u001b[0m\u001b[0m\n\u001b[0;32m    291\u001b[0m         \"\"\"\n\u001b[1;32m--> 292\u001b[1;33m         \u001b[0mfd\u001b[0m\u001b[1;33m,\u001b[0m \u001b[0maddr\u001b[0m \u001b[1;33m=\u001b[0m \u001b[0mself\u001b[0m\u001b[1;33m.\u001b[0m\u001b[0m_accept\u001b[0m\u001b[1;33m(\u001b[0m\u001b[1;33m)\u001b[0m\u001b[1;33m\u001b[0m\u001b[1;33m\u001b[0m\u001b[0m\n\u001b[0m\u001b[0;32m    293\u001b[0m         \u001b[0msock\u001b[0m \u001b[1;33m=\u001b[0m \u001b[0msocket\u001b[0m\u001b[1;33m(\u001b[0m\u001b[0mself\u001b[0m\u001b[1;33m.\u001b[0m\u001b[0mfamily\u001b[0m\u001b[1;33m,\u001b[0m \u001b[0mself\u001b[0m\u001b[1;33m.\u001b[0m\u001b[0mtype\u001b[0m\u001b[1;33m,\u001b[0m \u001b[0mself\u001b[0m\u001b[1;33m.\u001b[0m\u001b[0mproto\u001b[0m\u001b[1;33m,\u001b[0m \u001b[0mfileno\u001b[0m\u001b[1;33m=\u001b[0m\u001b[0mfd\u001b[0m\u001b[1;33m)\u001b[0m\u001b[1;33m\u001b[0m\u001b[1;33m\u001b[0m\u001b[0m\n\u001b[0;32m    294\u001b[0m         \u001b[1;31m# Issue #7995: if no default timeout is set and the listening\u001b[0m\u001b[1;33m\u001b[0m\u001b[1;33m\u001b[0m\u001b[1;33m\u001b[0m\u001b[0m\n",
      "\u001b[1;31mKeyboardInterrupt\u001b[0m: "
     ]
    }
   ],
   "source": [
    "serv = socketserver('127.0.0.1', 9055)\n",
    "\n",
    "while True:  \n",
    "    msg = serv.recvmsg()"
   ]
  },
  {
   "cell_type": "code",
   "execution_count": null,
   "id": "a5c0965e",
   "metadata": {},
   "outputs": [],
   "source": []
  }
 ],
 "metadata": {
  "kernelspec": {
   "display_name": "Python 3 (ipykernel)",
   "language": "python",
   "name": "python3"
  },
  "language_info": {
   "codemirror_mode": {
    "name": "ipython",
    "version": 3
   },
   "file_extension": ".py",
   "mimetype": "text/x-python",
   "name": "python",
   "nbconvert_exporter": "python",
   "pygments_lexer": "ipython3",
   "version": "3.8.8"
  }
 },
 "nbformat": 4,
 "nbformat_minor": 5
}
