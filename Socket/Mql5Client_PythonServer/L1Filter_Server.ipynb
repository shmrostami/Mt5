{
 "cells": [
  {
   "cell_type": "code",
   "execution_count": 1,
   "id": "fab49581",
   "metadata": {},
   "outputs": [],
   "source": [
    "from tf import l1, strip_outliers\n",
    "from statsmodels.robust.scale import mad\n",
    "import numpy as np\n",
    "import pandas as pd\n",
    "import zmq\n",
    "import matplotlib.pyplot as plt\n",
    "import json"
   ]
  },
  {
   "cell_type": "code",
   "execution_count": null,
   "id": "463796e5",
   "metadata": {},
   "outputs": [],
   "source": [
    "context = zmq.Context()\n",
    "socket = context.socket(zmq.REP)\n",
    "socket.bind(\"tcp://*:5555\")\n",
    "\n",
    "    #  Wait for next request from client\n",
    "message_recv = socket.recv_json()\n",
    "print(\"Received: %s\" % message_recv)\n",
    "\n",
    "data = np.array(message_recv['close'])\n",
    "#delta = 20\n",
    "delta = int(message_recv['delta'])\n",
    "# filtered = l1(data, delta)\n",
    "filtered = l1(data, delta)\n",
    "y = {\"l1filter\":list(filtered)}   \n",
    "socket.send_json(y)\n",
    "socket.close()"
   ]
  },
  {
   "cell_type": "code",
   "execution_count": null,
   "id": "9e3cc10b",
   "metadata": {},
   "outputs": [],
   "source": [
    "context = zmq.Context()\n",
    "socket = context.socket(zmq.REP)\n",
    "socket.bind(\"tcp://*:5555\")\n",
    "\n",
    "while True:\n",
    "    message_recv = socket.recv_json()\n",
    "    print(\"Received: %s\" % message_recv)\n",
    "\n",
    "    data = np.array(message_recv['close'])\n",
    "#     delta = 20\n",
    "    delta = int(message_recv['delta'])\n",
    "    \n",
    "    filtered = l1(data, delta)\n",
    "    \n",
    "    y = {\"l1filter\":list(filtered)}   \n",
    "    #print(\"filtered: \", y)\n",
    "    socket.send_json(y)\n"
   ]
  },
  {
   "cell_type": "code",
   "execution_count": null,
   "id": "e7d43acd-ae78-4b24-ad02-091a4f5cd2b5",
   "metadata": {},
   "outputs": [],
   "source": []
  }
 ],
 "metadata": {
  "kernelspec": {
   "display_name": "Python 3 (ipykernel)",
   "language": "python",
   "name": "python3"
  },
  "language_info": {
   "codemirror_mode": {
    "name": "ipython",
    "version": 3
   },
   "file_extension": ".py",
   "mimetype": "text/x-python",
   "name": "python",
   "nbconvert_exporter": "python",
   "pygments_lexer": "ipython3",
   "version": "3.9.7"
  }
 },
 "nbformat": 4,
 "nbformat_minor": 5
}
