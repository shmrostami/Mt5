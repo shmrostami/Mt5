{
 "cells": [
  {
   "cell_type": "code",
   "execution_count": 1,
   "id": "9f94077e",
   "metadata": {},
   "outputs": [],
   "source": [
    "from tf import l1\n",
    "from statsmodels.robust.scale import mad\n",
    "import numpy as np\n",
    "import pandas as pd\n",
    "import zmq\n",
    "import matplotlib.pyplot as plt\n",
    "import json"
   ]
  },
  {
   "cell_type": "code",
   "execution_count": null,
   "id": "d04a2b0e",
   "metadata": {},
   "outputs": [],
   "source": [
    "context = zmq.Context()\n",
    "socket = context.socket(zmq.REP)\n",
    "socket.bind(\"tcp://*:5555\")\n",
    "\n",
    "    #  Wait for next request from client\n",
    "message_recv = socket.recv_json()\n",
    "print(\"Received: %s\" % message_recv)\n",
    "\n",
    "data = np.array(message_recv['close'])\n",
    "delta = 20\n",
    "filtered = l1(data, delta)\n",
    "y = {\"l1filter\":list(filtered)}   \n",
    "print(\"filtered: \", y)\n",
    "socket.send_json(y)\n",
    "socket.close()"
   ]
  },
  {
   "cell_type": "code",
   "execution_count": null,
   "id": "f5196d01",
   "metadata": {},
   "outputs": [],
   "source": [
    "context = zmq.Context()\n",
    "socket = context.socket(zmq.REP)\n",
    "socket.bind(\"tcp://*:5555\")\n",
    "\n",
    "while True:\n",
    "    message_recv = socket.recv_json()\n",
    "    #print(\"Received: %s\" % message_recv)\n",
    "\n",
    "    data = np.array(message_recv['close'])\n",
    "    delta = 20\n",
    "    filtered = l1(data, delta)\n",
    "    y = {\"l1filter\":list(filtered)}   \n",
    "    #print(\"filtered: \", y)\n",
    "    socket.send_json(y)\n"
   ]
  }
 ],
 "metadata": {
  "kernelspec": {
   "display_name": "Python 3",
   "language": "python",
   "name": "python3"
  },
  "language_info": {
   "codemirror_mode": {
    "name": "ipython",
    "version": 3
   },
   "file_extension": ".py",
   "mimetype": "text/x-python",
   "name": "python",
   "nbconvert_exporter": "python",
   "pygments_lexer": "ipython3",
   "version": "3.8.8"
  }
 },
 "nbformat": 4,
 "nbformat_minor": 5
}
