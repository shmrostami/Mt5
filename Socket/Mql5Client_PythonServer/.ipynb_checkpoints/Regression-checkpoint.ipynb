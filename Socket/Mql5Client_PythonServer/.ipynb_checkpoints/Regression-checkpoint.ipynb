{
 "cells": [
  {
   "cell_type": "code",
   "execution_count": 1,
   "id": "f34e923d",
   "metadata": {},
   "outputs": [],
   "source": [
    "import zmq\n",
    "import pandas as pd\n",
    "import matplotlib.pyplot as plt\n",
    "import json"
   ]
  },
  {
   "cell_type": "code",
   "execution_count": null,
   "id": "8701c113",
   "metadata": {},
   "outputs": [],
   "source": [
    "context = zmq.Context()\n",
    "socket = context.socket(zmq.REP)\n",
    "socket.bind(\"tcp://*:5555\")\n",
    "\n",
    "    #  Wait for next request from client\n",
    "message_recv = socket.recv_json()\n",
    "print(\"Received request: %s\" % message_recv)\n",
    "d = message_recv\n",
    "    \n",
    "message_recv = \"{}-OK\".format(message_recv);    \n",
    "socket.send_string(message_recv)\n"
   ]
  },
  {
   "cell_type": "code",
   "execution_count": 3,
   "id": "0428e148",
   "metadata": {},
   "outputs": [
    {
     "data": {
      "text/plain": [
       "\"{'close': [1.20412, 1.20393, 1.20403, 1.20424, 1.20423, 1.20424, 1.20393, 1.20391, 1.2037, 1.20374]}-OK\""
      ]
     },
     "execution_count": 3,
     "metadata": {},
     "output_type": "execute_result"
    }
   ],
   "source": [
    "message_recv"
   ]
  },
  {
   "cell_type": "code",
   "execution_count": null,
   "id": "b85b7949",
   "metadata": {},
   "outputs": [],
   "source": [
    "context = zmq.Context()\n",
    "socket = context.socket(zmq.REP)\n",
    "socket.bind(\"tcp://*:5555\")\n",
    "\n",
    "while True:\n",
    "    #  Wait for next request from client\n",
    "    message_recv = socket.recv_json()\n",
    "    print(\"Received request: %s\" % message_recv)\n",
    "\n",
    "    #  Do some 'work'\n",
    "    #time.sleep(1)\n",
    "    \n",
    "    message_recv = \"{}-OK\".format(message_recv);    \n",
    "    #  Send reply back to client\n",
    "    socket.send_string(message_recv)\n"
   ]
  },
  {
   "cell_type": "code",
   "execution_count": null,
   "id": "ae73b8fa",
   "metadata": {},
   "outputs": [],
   "source": [
    "def calcregr(msg = ''):\n",
    "    chartdata = np.fromstring(msg, dtype=float, sep= ' ') \n",
    "    Y = np.array(chartdata).reshape(-1,1)\n",
    "    X = np.array(np.arange(len(chartdata))).reshape(-1,1)\n",
    "        \n",
    "    lr = LinearRegression()\n",
    "    lr.fit(X, Y)\n",
    "    Y_pred = lr.predict(X)\n",
    "\n",
    "    P = Y_pred.astype(str).item(-1) + ' ' + Y_pred.astype(str).item(0)\n",
    "    print(P)\n",
    "    return str(P)"
   ]
  }
 ],
 "metadata": {
  "kernelspec": {
   "display_name": "Python 3",
   "language": "python",
   "name": "python3"
  },
  "language_info": {
   "codemirror_mode": {
    "name": "ipython",
    "version": 3
   },
   "file_extension": ".py",
   "mimetype": "text/x-python",
   "name": "python",
   "nbconvert_exporter": "python",
   "pygments_lexer": "ipython3",
   "version": "3.8.8"
  }
 },
 "nbformat": 4,
 "nbformat_minor": 5
}
