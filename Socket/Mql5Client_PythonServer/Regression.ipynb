{
 "cells": [
  {
   "cell_type": "code",
   "execution_count": 1,
   "id": "4eef42c7",
   "metadata": {},
   "outputs": [],
   "source": [
    "import zmq\n",
    "import pandas as pd\n",
    "import matplotlib.pyplot as plt\n",
    "import json\n",
    "import numpy as np\n",
    "from sklearn.linear_model import LinearRegression"
   ]
  },
  {
   "cell_type": "code",
   "execution_count": 2,
   "id": "51c31fe5",
   "metadata": {},
   "outputs": [],
   "source": [
    "def calcregr(data):\n",
    "    Y = data\n",
    "    X = np.arange(len(data)).reshape(-1,1)\n",
    "        \n",
    "    lr = LinearRegression()\n",
    "    lr.fit(X, Y)\n",
    "    Y_pred = lr.predict(X)\n",
    "    return list(np.round(Y_pred, 7)) "
   ]
  },
  {
   "cell_type": "code",
   "execution_count": null,
   "id": "6907532c",
   "metadata": {},
   "outputs": [],
   "source": [
    "context = zmq.Context()\n",
    "socket = context.socket(zmq.REP)\n",
    "socket.bind(\"tcp://*:5555\")\n",
    "\n",
    "while True:\n",
    "    #  Wait for next request from client\n",
    "    message_recv = socket.recv_json()\n",
    "    #print(\"Received request: %s\" % message_recv)\n",
    "\n",
    "    y = {\"reg\":calcregr(np.array(message_recv['close']))}    \n",
    "    socket.send_json(y)\n"
   ]
  },
  {
   "cell_type": "markdown",
   "id": "52e55efb",
   "metadata": {},
   "source": [
    "### Debug Section"
   ]
  },
  {
   "cell_type": "code",
   "execution_count": 3,
   "id": "7a854bb5",
   "metadata": {},
   "outputs": [
    {
     "name": "stdout",
     "output_type": "stream",
     "text": [
      "Received request: {'close': [1.20147, 1.20226, 1.20301, 1.20646, 1.20447, 1.20503, 1.20418, 1.20261, 1.20442, 1.20417]}\n"
     ]
    }
   ],
   "source": [
    "context = zmq.Context()\n",
    "socket = context.socket(zmq.REP)\n",
    "socket.bind(\"tcp://*:5555\")\n",
    "\n",
    "    #  Wait for next request from client\n",
    "message_recv = socket.recv_json()\n",
    "print(\"Received request: %s\" % message_recv)\n",
    "\n",
    "y = {\"reg\":calcregr(np.array(message_recv['close']))}    \n",
    "socket.send_json(y)\n",
    "socket.close()"
   ]
  },
  {
   "cell_type": "code",
   "execution_count": null,
   "id": "d0f7e69c",
   "metadata": {},
   "outputs": [],
   "source": []
  }
 ],
 "metadata": {
  "kernelspec": {
   "display_name": "Python 3 (ipykernel)",
   "language": "python",
   "name": "python3"
  },
  "language_info": {
   "codemirror_mode": {
    "name": "ipython",
    "version": 3
   },
   "file_extension": ".py",
   "mimetype": "text/x-python",
   "name": "python",
   "nbconvert_exporter": "python",
   "pygments_lexer": "ipython3",
   "version": "3.9.7"
  }
 },
 "nbformat": 4,
 "nbformat_minor": 5
}
